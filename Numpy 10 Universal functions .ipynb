{
 "cells": [
  {
   "cell_type": "code",
   "execution_count": 15,
   "id": "1c50cc5a",
   "metadata": {},
   "outputs": [],
   "source": [
    "import numpy as np\n",
    "a = np.array([1, 2, 3, 4])\n",
    "b = np.array([5, 6, 7, 8])"
   ]
  },
  {
   "cell_type": "markdown",
   "id": "f4d0b3e3",
   "metadata": {},
   "source": [
    "# np.add()"
   ]
  },
  {
   "cell_type": "code",
   "execution_count": 2,
   "id": "7fa8bd42",
   "metadata": {},
   "outputs": [
    {
     "data": {
      "text/plain": [
       "array([ 6,  8, 10, 12])"
      ]
     },
     "execution_count": 2,
     "metadata": {},
     "output_type": "execute_result"
    }
   ],
   "source": [
    "# np.add() adds two arrays element-wise\n",
    "np.add(a ,b)"
   ]
  },
  {
   "cell_type": "markdown",
   "id": "d08e3201",
   "metadata": {},
   "source": [
    "# np.max()"
   ]
  },
  {
   "cell_type": "code",
   "execution_count": 3,
   "id": "ba3552e9",
   "metadata": {},
   "outputs": [
    {
     "data": {
      "text/plain": [
       "4"
      ]
     },
     "execution_count": 3,
     "metadata": {},
     "output_type": "execute_result"
    }
   ],
   "source": [
    "# np.max(): finds the maximum of two arrays element-wise\n",
    "np.max(a)"
   ]
  },
  {
   "cell_type": "markdown",
   "id": "0d446977",
   "metadata": {},
   "source": [
    "# np.min()"
   ]
  },
  {
   "cell_type": "code",
   "execution_count": 6,
   "id": "ba6f950a",
   "metadata": {},
   "outputs": [
    {
     "data": {
      "text/plain": [
       "5"
      ]
     },
     "execution_count": 6,
     "metadata": {},
     "output_type": "execute_result"
    }
   ],
   "source": [
    "# np.min(): finds the minimum of two arrays element-wise\n",
    "np.min(b)"
   ]
  },
  {
   "cell_type": "markdown",
   "id": "7f618df1",
   "metadata": {},
   "source": [
    "# np.sqrt()"
   ]
  },
  {
   "cell_type": "code",
   "execution_count": 7,
   "id": "743883c5",
   "metadata": {},
   "outputs": [
    {
     "data": {
      "text/plain": [
       "array([2.23606798, 2.44948974, 2.64575131, 2.82842712])"
      ]
     },
     "execution_count": 7,
     "metadata": {},
     "output_type": "execute_result"
    }
   ],
   "source": [
    "# np.sqrt(): computes the square root of each element in the input array\n",
    "np.sqrt(b)"
   ]
  },
  {
   "cell_type": "markdown",
   "id": "6c92e870",
   "metadata": {},
   "source": [
    "# np.exp()"
   ]
  },
  {
   "cell_type": "code",
   "execution_count": 9,
   "id": "7069e31c",
   "metadata": {},
   "outputs": [
    {
     "data": {
      "text/plain": [
       "array([ 2.71828183,  7.3890561 , 20.08553692, 54.59815003])"
      ]
     },
     "execution_count": 9,
     "metadata": {},
     "output_type": "execute_result"
    }
   ],
   "source": [
    "# np.exp() computes the exponential of each element in the input array\n",
    "np.exp(a)"
   ]
  },
  {
   "cell_type": "markdown",
   "id": "f8ea7363",
   "metadata": {},
   "source": [
    "# np.exp()"
   ]
  },
  {
   "cell_type": "code",
   "execution_count": 18,
   "id": "4661ccae",
   "metadata": {},
   "outputs": [
    {
     "data": {
      "text/plain": [
       "array([ 2.71828183,  7.3890561 , 20.08553692, 54.59815003])"
      ]
     },
     "execution_count": 18,
     "metadata": {},
     "output_type": "execute_result"
    }
   ],
   "source": [
    "# np.exp() computes the exponential of each element in the input array\n",
    "np.exp(a)"
   ]
  },
  {
   "cell_type": "markdown",
   "id": "018c55c1",
   "metadata": {},
   "source": [
    "# np.log()"
   ]
  },
  {
   "cell_type": "code",
   "execution_count": 19,
   "id": "0c2293cb",
   "metadata": {},
   "outputs": [
    {
     "data": {
      "text/plain": [
       "array([0.        , 0.69314718, 1.09861229, 1.38629436])"
      ]
     },
     "execution_count": 19,
     "metadata": {},
     "output_type": "execute_result"
    }
   ],
   "source": [
    "# np.log() computes the natural logarithm of each element in the input array\n",
    "np.log(a)"
   ]
  },
  {
   "cell_type": "markdown",
   "id": "16682bc7",
   "metadata": {},
   "source": [
    "# np.sin()"
   ]
  },
  {
   "cell_type": "code",
   "execution_count": 17,
   "id": "23a88e67",
   "metadata": {},
   "outputs": [
    {
     "data": {
      "text/plain": [
       "array([ 0.84147098,  0.90929743,  0.14112001, -0.7568025 ])"
      ]
     },
     "execution_count": 17,
     "metadata": {},
     "output_type": "execute_result"
    }
   ],
   "source": [
    "# np.sin() computes the sine of each element in the input array\n",
    "np.sin(a)"
   ]
  },
  {
   "cell_type": "markdown",
   "id": "fd259a0e",
   "metadata": {},
   "source": [
    "# np.cos()"
   ]
  },
  {
   "cell_type": "code",
   "execution_count": 20,
   "id": "68879151",
   "metadata": {},
   "outputs": [
    {
     "data": {
      "text/plain": [
       "array([ 0.54030231, -0.41614684, -0.9899925 , -0.65364362])"
      ]
     },
     "execution_count": 20,
     "metadata": {},
     "output_type": "execute_result"
    }
   ],
   "source": [
    "#  np.cos() computes the cosine of each element in the input array\n",
    "np.cos(a)"
   ]
  },
  {
   "cell_type": "markdown",
   "id": "ee932c82",
   "metadata": {},
   "source": [
    "# np.tan()"
   ]
  },
  {
   "cell_type": "code",
   "execution_count": 22,
   "id": "22aef059",
   "metadata": {},
   "outputs": [
    {
     "data": {
      "text/plain": [
       "array([ 1.55740772, -2.18503986, -0.14254654,  1.15782128])"
      ]
     },
     "execution_count": 22,
     "metadata": {},
     "output_type": "execute_result"
    }
   ],
   "source": [
    "#  np.tan() computes the tangent of each element in the input array\n",
    "np.tan(a)"
   ]
  }
 ],
 "metadata": {
  "kernelspec": {
   "display_name": "Python 3 (ipykernel)",
   "language": "python",
   "name": "python3"
  },
  "language_info": {
   "codemirror_mode": {
    "name": "ipython",
    "version": 3
   },
   "file_extension": ".py",
   "mimetype": "text/x-python",
   "name": "python",
   "nbconvert_exporter": "python",
   "pygments_lexer": "ipython3",
   "version": "3.9.12"
  }
 },
 "nbformat": 4,
 "nbformat_minor": 5
}
